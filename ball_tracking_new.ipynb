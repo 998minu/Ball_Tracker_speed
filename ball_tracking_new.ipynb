{
  "nbformat": 4,
  "nbformat_minor": 0,
  "metadata": {
    "colab": {
      "private_outputs": true,
      "provenance": [],
      "gpuType": "T4"
    },
    "kernelspec": {
      "name": "python3",
      "display_name": "Python 3"
    },
    "language_info": {
      "name": "python"
    },
    "accelerator": "GPU"
  },
  "cells": [
    {
      "cell_type": "code",
      "source": [
        "import pandas as pd\n",
        "from numpy.linalg import inv\n",
        "import numpy as np\n",
        "import math\n",
        "import cv2\n",
        "import torch\n",
        "\n",
        "from matplotlib import pyplot as plt\n",
        "%matplotlib inline"
      ],
      "metadata": {
        "id": "F9a8KP36Riyw"
      },
      "execution_count": null,
      "outputs": []
    },
    {
      "cell_type": "code",
      "source": [
        "model = torch.hub.load('ultralytics/yolov5', 'yolov5m', verbose=False)\n",
        "device = torch.device('cuda')\n",
        "model = model.to(torch.device('cpu'))"
      ],
      "metadata": {
        "id": "nUhZEayCRi1e"
      },
      "execution_count": null,
      "outputs": []
    },
    {
      "cell_type": "code",
      "source": [
        "def draw_prediction(img: np.ndarray,\n",
        "                    class_name: str,\n",
        "                    df: pd.core.series.Series,\n",
        "                    color: tuple = (255, 0, 0)):\n",
        "    '''\n",
        "    Function to draw prediction around the bounding box identified by the YOLO\n",
        "    The Function also displays the confidence score top of the bounding box\n",
        "    '''\n",
        "\n",
        "    cv2.rectangle(img, (int(df.xmin), int(df.ymin)),\n",
        "                  (int(df.xmax), int(df.ymax)), color, 2)\n",
        "    cv2.putText(img, class_name + \" \" + str(round(df.confidence, 2)),\n",
        "                (int(df.xmin) - 10, int(df.ymin) - 10),\n",
        "                cv2.FONT_HERSHEY_SIMPLEX, 0.5, color, 2)\n",
        "    return img"
      ],
      "metadata": {
        "id": "w059SPHORi4Q"
      },
      "execution_count": null,
      "outputs": []
    },
    {
      "cell_type": "code",
      "source": [
        "def convert_video_to_frame(path: str):\n",
        "    '''\n",
        "    The function take input as video file and returns a list of images for every video\n",
        "    '''\n",
        "\n",
        "    cap = cv2.VideoCapture(path)\n",
        "    fps = cap.get(cv2.CAP_PROP_FPS)\n",
        "\n",
        "    img = []\n",
        "    while cap.isOpened():\n",
        "        ret, frame = cap.read()\n",
        "        if ret == True:\n",
        "            img.append(frame)\n",
        "        else:\n",
        "            break\n",
        "\n",
        "    cap.release()\n",
        "    return img, fps"
      ],
      "metadata": {
        "id": "YDO-en0IRi7B"
      },
      "execution_count": null,
      "outputs": []
    },
    {
      "cell_type": "code",
      "source": [
        "img_multi, fps_multi = convert_video_to_frame('/content/multiple_balls.avi')\n",
        "img_sin, fps_sin = convert_video_to_frame('/content/WhatsApp Video 2024-04-16 at 11.36.19 AM.mp4')"
      ],
      "metadata": {
        "id": "11EbfCqIRi9z"
      },
      "execution_count": null,
      "outputs": []
    },
    {
      "cell_type": "code",
      "source": [
        "results_sin = model(img_sin)\n",
        "results_multi = model(img_multi)\n",
        "\n",
        "df_sin = results_sin.pandas().xyxy\n",
        "df_multi = results_multi.pandas().xyxy\n",
        "\n"
      ],
      "metadata": {
        "id": "F92vywzKRjAl"
      },
      "execution_count": null,
      "outputs": []
    },
    {
      "cell_type": "code",
      "source": [
        "class KalmanFilter():\n",
        "    def __init__(self,\n",
        "                 xinit: int = 0,\n",
        "                 yinit: int = 0,\n",
        "                 fps: int = 30,\n",
        "                 std_a: float = 0.001,\n",
        "                 std_x: float = 0.0045,\n",
        "                 std_y: float = 0.01,\n",
        "                 cov: float = 100000) -> None:\n",
        "\n",
        "        # State Matrix\n",
        "        self.S = np.array([xinit, 0, 0, yinit, 0, 0])\n",
        "        self.dt = 1 / fps\n",
        "\n",
        "        # State Transition Model\n",
        "        # Here, we assume that the model follow Newtonian Kinematics\n",
        "        self.F = np.array([[1, self.dt, 0.5 * (self.dt * self.dt), 0, 0, 0],\n",
        "                           [0, 1, self.dt, 0, 0, 0], [0, 0, 1, 0, 0, 0],\n",
        "                           [0, 0, 0, 1, self.dt, 0.5 * self.dt * self.dt],\n",
        "                           [0, 0, 0, 0, 1, self.dt], [0, 0, 0, 0, 0, 1]])\n",
        "\n",
        "        self.std_a = std_a\n",
        "\n",
        "        # Process Noise\n",
        "        self.Q = np.array([\n",
        "            [\n",
        "                0.25 * self.dt * self.dt * self.dt * self.dt, 0.5 * self.dt *\n",
        "                self.dt * self.dt, 0.5 * self.dt * self.dt, 0, 0, 0\n",
        "            ],\n",
        "            [\n",
        "                0.5 * self.dt * self.dt * self.dt, self.dt * self.dt, self.dt,\n",
        "                0, 0, 0\n",
        "            ], [0.5 * self.dt * self.dt, self.dt, 1, 0, 0, 0],\n",
        "            [\n",
        "                0, 0, 0, 0.25 * self.dt * self.dt * self.dt * self.dt,\n",
        "                0.5 * self.dt * self.dt * self.dt, 0.5 * self.dt * self.dt\n",
        "            ],\n",
        "            [\n",
        "                0, 0, 0, 0.5 * self.dt * self.dt * self.dt, self.dt * self.dt,\n",
        "                self.dt\n",
        "            ], [0, 0, 0, 0.5 * self.dt * self.dt, self.dt, 1]\n",
        "        ]) * self.std_a * self.std_a\n",
        "\n",
        "        self.std_x = std_x\n",
        "        self.std_y = std_y\n",
        "\n",
        "        # Measurement Noise\n",
        "        self.R = np.array([[self.std_x * self.std_x, 0],\n",
        "                           [0, self.std_y * self.std_y]])\n",
        "\n",
        "        self.cov = cov\n",
        "\n",
        "        # Estimate Uncertainity\n",
        "        self.P = np.array([[self.cov, 0, 0, 0, 0, 0],\n",
        "                           [0, self.cov, 0, 0, 0, 0],\n",
        "                           [0, 0, self.cov, 0, 0, 0],\n",
        "                           [0, 0, 0, self.cov, 0, 0],\n",
        "                           [0, 0, 0, 0, self.cov, 0],\n",
        "                           [0, 0, 0, 0, 0, self.cov]])\n",
        "\n",
        "        # Observation Matrix\n",
        "        # Here, we are observing X & Y (0th index and 3rd Index)\n",
        "        self.H = np.array([[1, 0, 0, 0, 0, 0], [0, 0, 0, 1, 0, 0]])\n",
        "\n",
        "        self.I = np.array([[1, 0, 0, 0, 0, 0], [0, 1, 0, 0, 0, 0],\n",
        "                           [0, 0, 1, 0, 0, 0], [0, 0, 0, 1, 0, 0],\n",
        "                           [0, 0, 0, 0, 1, 0], [0, 0, 0, 0, 0, 1]])\n",
        "\n",
        "        # Predicting the next state and estimate uncertainity\n",
        "        self.S_pred = None\n",
        "        self.P_pred = None\n",
        "\n",
        "        # Kalman Gain\n",
        "        self.K = None\n",
        "\n",
        "        # Storing all the State, Kalman Gain and Estimate Uncertainity\n",
        "        self.S_hist = [self.S]\n",
        "        self.K_hist = []\n",
        "        self.P_hist = [self.P]\n",
        "\n",
        "    def pred_new_state(self):\n",
        "        self.S_pred = self.F.dot(self.S)\n",
        "\n",
        "    def pred_next_uncertainity(self):\n",
        "        self.P_pred = self.F.dot(self.P).dot(self.F.T) + self.Q\n",
        "\n",
        "    def get_Kalman_gain(self):\n",
        "        self.K = self.P_pred.dot(self.H.T).dot(\n",
        "            inv(self.H.dot(self.P_pred).dot(self.H.T) + self.R))\n",
        "        self.K_hist.append(self.K)\n",
        "\n",
        "    def state_correction(self, z):\n",
        "        if z == [None, None]:\n",
        "            self.S = self.S_pred\n",
        "        else:\n",
        "            self.S = self.S_pred + +self.K.dot(z - self.H.dot(self.S_pred))\n",
        "\n",
        "        self.S_hist.append(self.S)\n",
        "\n",
        "    def uncertainity_correction(self, z):\n",
        "        if z != [None, None]:\n",
        "            self.l1 = self.I - self.K.dot(self.H)\n",
        "            self.P = self.l1.dot(self.P_pred).dot(self.l1.T) + self.K.dot(\n",
        "                self.R).dot(self.K.T)\n",
        "        self.P_hist.append(self.P)"
      ],
      "metadata": {
        "id": "4mu-C9KZRjDO"
      },
      "execution_count": null,
      "outputs": []
    },
    {
      "cell_type": "code",
      "source": [
        "filter_sin = KalmanFilter(fps=fps_sin, xinit=60,\n",
        "                          yinit=150, std_x=0.000025, std_y=0.0001)\n",
        "\n",
        "filter_multi = [\n",
        "    KalmanFilter(fps=fps_multi, xinit=60, yinit=150,\n",
        "                 std_x=0.000025, std_y=0.0001),\n",
        "    KalmanFilter(fps=fps_multi, xinit=620, yinit=150,\n",
        "                 std_x=0.000025, std_y=0.0001)\n",
        "]"
      ],
      "metadata": {
        "id": "B_gjfUUWRjF5"
      },
      "execution_count": null,
      "outputs": []
    },
    {
      "cell_type": "code",
      "source": [
        "for df in df_sin:\n",
        "    df = df.loc[df['name'] == 'sports ball']\n",
        "    x_cen, y_cen = None, None\n",
        "\n",
        "    if len(df) > 0:\n",
        "        x_cen = (df.xmin.values[0] + df.xmax.values[0]) / 2\n",
        "        y_cen = (df.ymin.values[0] + df.ymax.values[0]) / 2\n",
        "\n",
        "    filter_sin.pred_new_state()\n",
        "    filter_sin.pred_next_uncertainity()\n",
        "    filter_sin.get_Kalman_gain()\n",
        "    filter_sin.state_correction([x_cen, y_cen])\n",
        "    filter_sin.uncertainity_correction([x_cen, y_cen])"
      ],
      "metadata": {
        "id": "rq-eWw2rRjIo"
      },
      "execution_count": null,
      "outputs": []
    },
    {
      "cell_type": "code",
      "source": [
        "out = cv2.VideoWriter('single_ball_kalman.mp4', cv2.VideoWriter_fourcc(*'mp4v'), 10,\n",
        "                      (img_sin[0].shape[1], img_sin[0].shape[0]))\n",
        "\n",
        "for i in range(len(img_sin)):\n",
        "    x, y = filter_sin.S_hist[i][0], filter_sin.S_hist[i][3]\n",
        "    df = df_sin[i].loc[df_sin[i]['name'] == 'sports ball']\n",
        "    tmp_img = img_sin[i]\n",
        "\n",
        "    for j in df.index.values:\n",
        "        tmp_img = draw_prediction(tmp_img, 'Ball', df.loc[j])\n",
        "\n",
        "    tmp_img = cv2.circle(tmp_img, (math.floor(\n",
        "        filter_sin.S_hist[i][0]), math.floor(filter_sin.S_hist[i][3])),\n",
        "        radius=1,\n",
        "        color=(255, 0, 0),\n",
        "        thickness=3)\n",
        "\n",
        "    out.write(tmp_img)\n",
        "\n",
        "out.release()"
      ],
      "metadata": {
        "id": "6xvaSKU_RjLT"
      },
      "execution_count": null,
      "outputs": []
    },
    {
      "cell_type": "code",
      "source": [],
      "metadata": {
        "id": "WZxisDlLfh1D"
      },
      "execution_count": null,
      "outputs": []
    }
  ]
}